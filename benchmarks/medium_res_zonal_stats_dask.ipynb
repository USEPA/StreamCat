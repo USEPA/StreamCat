{
 "cells": [
  {
   "cell_type": "code",
   "execution_count": null,
   "metadata": {},
   "outputs": [],
   "source": [
    "import numpy as np\n",
    "import rioxarray\n",
    "from xrspatial.zonal import stats\n",
    "from rasterio.windows import from_bounds\n",
    "import rasterio\n",
    "import xarray as xr\n",
    "from dask.distributed import Client, LocalCluster"
   ]
  },
  {
   "cell_type": "code",
   "execution_count": null,
   "metadata": {},
   "outputs": [],
   "source": [
    "cluster = LocalCluster(n_workers=8)\n",
    "client = Client(cluster)\n",
    "client.dashboard_link"
   ]
  },
  {
   "cell_type": "code",
   "execution_count": null,
   "metadata": {},
   "outputs": [],
   "source": [
    "LandscapeLayer = 'O:/PRIV/CPHEA/PESD/COR/CORFILES/Geospatial_Library_Projects/StreamCat/LandscapeRasters/QAComplete/CanalsDitches.tif'\n",
    "inZoneData = 'O:/PRIV/CPHEA/PESD/COR/CORFILES/Geospatial_Library_Resource/Physical/HYDROLOGY/NHDPlusV21/NHDPlusPN/NHDPlus17/NHDPlusCatchment/cat'"
   ]
  },
  {
   "cell_type": "code",
   "execution_count": null,
   "metadata": {},
   "outputs": [],
   "source": [
    "izd_array = rioxarray.open_rasterio(inZoneData, chunks=True).sel(band=1).drop_vars('band')\n",
    "izd_array"
   ]
  },
  {
   "cell_type": "code",
   "execution_count": null,
   "metadata": {},
   "outputs": [],
   "source": [
    "transform = izd_array.rio.transform()\n",
    "bounds = izd_array.rio.bounds()\n",
    "window = from_bounds(*bounds, transform)\n",
    "window"
   ]
  },
  {
   "cell_type": "code",
   "execution_count": null,
   "metadata": {},
   "outputs": [],
   "source": [
    "# with rasterio.open(LandscapeLayer) as src:\n",
    "#     ll_array = src.read(1, window=window)\n",
    "# ll_array\n",
    "# ll_xarray =  xr.DataArray(\n",
    "#         data=ll_array,\n",
    "#         dims=['y', 'x']\n",
    "#     ).chunk(izd_array.chunksizes)\n",
    "# ll_xarray"
   ]
  },
  {
   "cell_type": "code",
   "execution_count": null,
   "metadata": {},
   "outputs": [],
   "source": [
    "ll_array = rioxarray.open_rasterio(LandscapeLayer).sel(band=1).drop_vars('band')\n",
    "ll_array"
   ]
  },
  {
   "cell_type": "code",
   "execution_count": null,
   "metadata": {},
   "outputs": [],
   "source": [
    "ll_array_clipped = ll_array.rio.isel_window(window)\n",
    "ll_array_clipped"
   ]
  },
  {
   "cell_type": "code",
   "execution_count": null,
   "metadata": {},
   "outputs": [],
   "source": [
    "# Convert clipped array to dask array by chunking like izd_array\n",
    "ll_array_clipped = ll_array_clipped.chunk(izd_array.chunksizes)"
   ]
  },
  {
   "cell_type": "code",
   "execution_count": null,
   "metadata": {},
   "outputs": [],
   "source": [
    "outTable = stats(izd_array, ll_array_clipped, nodata_values=izd_array.rio.nodata)\n",
    "outTable"
   ]
  },
  {
   "cell_type": "code",
   "execution_count": null,
   "metadata": {},
   "outputs": [],
   "source": [
    "%%time\n",
    "final_df = outTable.compute()"
   ]
  },
  {
   "cell_type": "code",
   "execution_count": null,
   "metadata": {},
   "outputs": [],
   "source": [
    "final_df.head()"
   ]
  },
  {
   "cell_type": "code",
   "execution_count": null,
   "metadata": {},
   "outputs": [],
   "source": [
    "final_df.to_csv('medium_res_stats_dask_test.csv')"
   ]
  }
 ],
 "metadata": {
  "kernelspec": {
   "display_name": "Python 3 (ipykernel)",
   "language": "python",
   "name": "python3"
  },
  "language_info": {
   "codemirror_mode": {
    "name": "ipython",
    "version": 3
   },
   "file_extension": ".py",
   "mimetype": "text/x-python",
   "name": "python",
   "nbconvert_exporter": "python",
   "pygments_lexer": "ipython3",
   "version": "3.12.7"
  }
 },
 "nbformat": 4,
 "nbformat_minor": 4
}
